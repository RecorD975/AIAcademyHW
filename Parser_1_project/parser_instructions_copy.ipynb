{
 "cells": [
  {
   "cell_type": "markdown",
   "id": "e0559d13",
   "metadata": {
    "id": "e0559d13"
   },
   "source": [
    "\n",
    "# Проект‑практикум: Парсинг данных • Вариант для студентов\n",
    "\n",
    "**Задача:** реализовать рабочий пайплайн парсинга (сбор → очистка → проверка) своими руками.  \n",
    "**Правило:** в кодовых ячейках ниже оставлены только комментарии‑подсказки. Заменяйте их на **свой код**.\n",
    "\n",
    "**Этапы**\n",
    "1. Фаза 0 — подготовка окружения и структуры.\n",
    "2. Фаза 1 — мини‑парсер «Quotes to Scrape».\n",
    "3. Фаза 2 — маркетплейс (двухшаговый: категория → карточка).\n",
    "4. Фаза 3 — очистка и валидация.\n",
    "5. Фаза 4 — воспроизводимость (мини‑конвейер) и смоук‑тесты.\n",
    "\n",
    "> Подсказка: используйте понятные имена переменных, функции с докстрингами и логирование.\n"
   ]
  },
  {
   "cell_type": "markdown",
   "id": "6fa54edb-fe87-4c77-b81e-e252cae130da",
   "metadata": {
    "id": "6fa54edb-fe87-4c77-b81e-e252cae130da"
   },
   "source": [
    "## 1. **Фаза 0 — подготовка окружения и структуры**\n",
    "\n",
    "Это как настройка рабочего стола перед началом проекта:\n",
    "\n",
    "* мы устанавливаем все нужные программы и библиотеки (инструменты),\n",
    "* создаём папки для хранения данных: `raw` (сырые), `processed` (очищенные), `logs` (логи).\n",
    "\n",
    "👉 Цель: подготовить «чистое рабочее место», чтобы дальше всё было организованно.\n",
    "\n",
    "---\n",
    "\n",
    "### 2. **Фаза 1 — мини-парсер «Quotes to Scrape»**\n",
    "\n",
    "Это тренировочный этап. Мы берём сайт для обучения (quotes.toscrape.com), где размещены цитаты.\n",
    "\n",
    "* Скачиваем их при помощи кода на Python,\n",
    "* сохраняем в таблицу (CSV) с колонками «цитата», «автор», «теги».\n",
    "\n",
    "👉 Цель: научиться базовому парсингу и проверить, что связка `requests + BeautifulSoup + CSV` работает.\n",
    "\n",
    "---\n",
    "\n",
    "### 3. **Фаза 2 — маркетплейс (категория → карточка)**\n",
    "\n",
    "Здесь уже настоящий сайт — маркетплейс (Lalafo).\n",
    "\n",
    "* Находим страницу категории (например, электроника),\n",
    "* собираем ссылки на карточки товаров,\n",
    "* переходим в каждую карточку и вытаскиваем данные: название товара и цену.\n",
    "\n",
    "👉 Цель: освоить более сложный сценарий «двухшагового» парсинга: сначала ссылки, потом сами объекты.\n",
    "\n",
    "---\n",
    "\n",
    "### 4. **Фаза 3 — очистка и валидация**\n",
    "\n",
    "Сырые данные редко бывают аккуратными. Поэтому:\n",
    "\n",
    "* удаляем дубликаты и пустые строки,\n",
    "* приводим цены к числам и фильтруем нереалистичные значения,\n",
    "* добавляем служебные поля (источник, дата сбора, категория).\n",
    "\n",
    "👉 Цель: получить чистый датасет, готовый для анализа или загрузки в базу.\n",
    "\n",
    "---\n",
    "\n",
    "### 5. **Фаза 4 — воспроизводимость (пайплайн) и смоук-тесты**\n",
    "\n",
    "Здесь мы собираем всё вместе:\n",
    "\n",
    "* одна команда запускает весь процесс — парсинг + очистку,\n",
    "* параметры (например, какая категория, сколько страниц) задаём через конфиг или `.env`,\n",
    "* смоук-тесты проверяют, что данные корректны (есть все колонки, нет пустых URL, цены > 0).\n",
    "\n",
    "👉 Цель: сделать проект удобным и повторяемым — так, чтобы его можно было запустить заново через неделю или дать другому человеку, и всё сработает.\n",
    "\n",
    "---"
   ]
  },
  {
   "cell_type": "markdown",
   "id": "f644394a",
   "metadata": {
    "id": "f644394a"
   },
   "source": [
    "## Фаза 0. Подготовка окружения"
   ]
  },
  {
   "cell_type": "code",
   "execution_count": 6,
   "id": "b26c1710",
   "metadata": {
    "colab": {
     "base_uri": "https://localhost:8080/"
    },
    "id": "b26c1710",
    "outputId": "c4d3103f-eb62-4a2d-d3ce-e9afa680c9d5"
   },
   "outputs": [
    {
     "name": "stdout",
     "output_type": "stream",
     "text": [
      "✅ Зависимости установлены/обновлены\n"
     ]
    }
   ],
   "source": [
    "# TODO: Установите зависимости проекта через pip.\n",
    "# Подсказка: используйте модуль запуска пакетов из Python или магию Jupyter (%pip).\n",
    "# Обязательные пакеты: requests, beautifulsoup4, lxml, pandas, python-dotenv, tqdm (и при желании pyarrow).\n",
    "# Пример шага: установить список пакетов и вывести подтверждение установки.\n",
    "\n",
    "# Установка зависимостей\n",
    "try:\n",
    "    import sys, subprocess\n",
    "    pkgs = [\"requests\", \"beautifulsoup4\", \"lxml\", \"pandas\", \"python-dotenv\", \"tqdm\", \"pyarrow\"]\n",
    "    subprocess.check_call([sys.executable, \"-m\", \"pip\", \"install\", \"-q\"] + pkgs)\n",
    "    print(\"✅ Зависимости установлены/обновлены\")\n",
    "except Exception as e:\n",
    "    print(\"⚠️ Установите пакеты вручную:\", e)"
   ]
  },
  {
   "cell_type": "code",
   "execution_count": 7,
   "id": "2hJU2mA-v2YS",
   "metadata": {
    "id": "2hJU2mA-v2YS"
   },
   "outputs": [],
   "source": [
    "# Хелперы для отображения и скачивания\n",
    "import pandas as pd\n",
    "from IPython.display import display\n",
    "from pathlib import Path\n",
    "\n",
    "IN_COLAB = False\n",
    "try:\n",
    "    import google.colab  # type: ignore\n",
    "    from google.colab import data_table, files  # type: ignore\n",
    "    data_table.enable_dataframe_formatter()\n",
    "    IN_COLAB = True\n",
    "except Exception:\n",
    "    files = None  # type: ignore\n",
    "\n",
    "def show_df(df: pd.DataFrame, title: str, n: int = 20):\n",
    "    if title:\n",
    "        print(title)\n",
    "    display(df.head(n))\n",
    "\n",
    "def show_csv(path: Path, title: str, n: int = 20):\n",
    "    if not path.exists():\n",
    "        print(f\"Файл не найден: {path}\")\n",
    "        return\n",
    "    try:\n",
    "        df = pd.read_csv(path)\n",
    "        show_df(df, title, n)\n",
    "    except Exception as e:\n",
    "        print(\"Не удалось прочитать CSV:\", e)\n",
    "\n",
    "def download_file(path: Path):\n",
    "    \"\"\"Скачивание файла в Colab. В Jupyter просто сообщает путь.\"\"\"\n",
    "    if not path.exists():\n",
    "        print(f\"Файл не найден: {path}\")\n",
    "        return\n",
    "    if IN_COLAB and files is not None:\n",
    "        files.download(str(path))\n",
    "    else:\n",
    "        print(f\"Скачивание доступно в Colab. Путь к файлу: {path}\")"
   ]
  },
  {
   "cell_type": "code",
   "execution_count": 8,
   "id": "b074006f",
   "metadata": {
    "colab": {
     "base_uri": "https://localhost:8080/"
    },
    "id": "b074006f",
    "outputId": "37dda9cc-f8b1-43c3-8c46-5206eb774da4"
   },
   "outputs": [
    {
     "name": "stdout",
     "output_type": "stream",
     "text": [
      "Base dir: D:\\AIAcademy\\Parser_1_project\n",
      "Raw dir: D:\\AIAcademy\\Parser_1_project\\data\\raw\n",
      "Pocessed dir: D:\\AIAcademy\\Parser_1_project\\data\\processed\n",
      "Logs dir: D:\\AIAcademy\\Parser_1_project\\logs\n"
     ]
    }
   ],
   "source": [
    "# TODO: Создайте структуру папок проекта: data/raw, data/processed, logs.\n",
    "# Подсказка: используйте pathlib.Path и метод mkdir(..., parents=True, exist_ok=True).\n",
    "# Проверьте, что директории появились, выведите их абсолютные пути.\n",
    "from pathlib import Path\n",
    "\n",
    "BASE_DIR = Path.cwd()\n",
    "RAW_DIR = BASE_DIR / 'data' / 'raw'\n",
    "PROCESSED_DIR = BASE_DIR / 'data' / 'processed'\n",
    "LOG_DIR = BASE_DIR / 'logs'\n",
    "\n",
    "for path in [RAW_DIR, PROCESSED_DIR, LOG_DIR]:\n",
    "  path.mkdir(parents = True, exist_ok = True)\n",
    "\n",
    "print(f'Base dir: {BASE_DIR}\\nRaw dir: {RAW_DIR}\\nPocessed dir: {PROCESSED_DIR}\\nLogs dir: {LOG_DIR}')"
   ]
  },
  {
   "cell_type": "code",
   "execution_count": 9,
   "id": "87b6af62",
   "metadata": {
    "colab": {
     "base_uri": "https://localhost:8080/"
    },
    "id": "87b6af62",
    "outputId": "7aa41cf4-e01a-47fc-a6f3-012cab555180"
   },
   "outputs": [],
   "source": [
    "# TODO: Задайте базовые параметры проекта (в виде переменных):\n",
    "# - CATEGORY (строка пути категории маркетплейса)\n",
    "# - PAGES_LIMIT (int, ограничение страниц)\n",
    "# - PER_PAGE_LIMIT (int, ограничение карточек на страницу)\n",
    "# - DELAY и ITEM_DELAY (float, задержки между запросами)\n",
    "# - SOURCE и CURRENCY (строки)\n",
    "# Выведите значения параметров для самопроверки.\n"
   ]
  },
  {
   "cell_type": "markdown",
   "id": "65972359",
   "metadata": {
    "id": "65972359"
   },
   "source": [
    "### Утилиты: логирование"
   ]
  },
  {
   "cell_type": "code",
   "execution_count": 17,
   "id": "5438cf82",
   "metadata": {
    "id": "5438cf82"
   },
   "outputs": [],
   "source": [
    "# TODO: Реализуйте функцию get_logger(name) для логирования в консоль и файл.\n",
    "# Требования:\n",
    "# - уровень INFO;\n",
    "# - 2 хэндлера: StreamHandler (консоль) и FileHandler (в logs/<name>.log);\n",
    "# - формат логов: \"%(asctime)s - %(levelname)s - %(name)s - %(message)s\".\n",
    "# Подсказка: не дублируйте хэндлеры при повторных запусках в Jupyter.\n",
    "\n",
    "\n",
    "import logging\n",
    "\n",
    "def get_logger(name: str, log_dir: Path = LOG_DIR) -> logging.Logger:\n",
    "    log_dir.mkdir(parents = True, exist_ok = True)\n",
    "    logger = logging.getLogger(name)\n",
    "    logger.setLevel(logging.INFO)\n",
    "    if logger.handlers:\n",
    "        return logger\n",
    "    ch = logging.StreamHandler(); ch.setLevel(logging.INFO)\n",
    "    fh = logging.FileHandler(log_dir / f\"{name}.log\", encoding=\"utf-8\"); fh.setLevel(logging.INFO)\n",
    "    fmt = logging.Formatter(\"%(asctime)s - %(levelname)s - %(name)s - %(message)s\")\n",
    "    ch.setFormatter(fmt); fh.setFormatter(fmt)\n",
    "    logger.addHandler(ch); logger.addHandler(fh)\n",
    "    return logger\n"
   ]
  },
  {
   "cell_type": "markdown",
   "id": "93cf5c91",
   "metadata": {
    "id": "93cf5c91"
   },
   "source": [
    "## Фаза 1. Мини‑парсер — Quotes to Scrape"
   ]
  },
  {
   "cell_type": "code",
   "execution_count": 11,
   "id": "3bada940",
   "metadata": {
    "id": "3bada940"
   },
   "outputs": [],
   "source": [
    "\n",
    "# TODO: Импортируйте необходимые модули для сетевых запросов и HTML‑парсинга.\n",
    "# Рекомендуемые инструменты: requests, bs4.BeautifulSoup, time.\n",
    "# Создайте константы для базового URL и пути для CSV.\n",
    "import csv, time, requests, re\n",
    "from bs4 import BeautifulSoup\n",
    "\n",
    "QUOTES_BASE_URL = \"https://quotes.toscrape.com\"\n",
    "QUOTES_OUT = RAW_DIR / \"quotes.csv\"\n",
    "quotes_logger = get_logger(\"quotes\")\n",
    "HEADERS = {\"User-Agent\": \"Mozilla/5.0\"}"
   ]
  },
  {
   "cell_type": "code",
   "execution_count": 12,
   "id": "441827e3",
   "metadata": {
    "id": "441827e3"
   },
   "outputs": [],
   "source": [
    "\n",
    "# TODO: Реализуйте функцию fetch(url) с повторами и таймаутом.\n",
    "# Логика:\n",
    "# 1) выполнить GET с заголовком User-Agent;\n",
    "# 2) при ошибке логировать предупреждение и делать экспоненциальную паузу;\n",
    "# 3) после N попыток выбросить исключение.\n",
    "\n",
    "def fetch(url: str, retries: int = 3, timeout: int = 15) -> str:\n",
    "    for attempt in range(1, retries+1):\n",
    "        try:\n",
    "            r = requests.get(url, headers=HEADERS, timeout=timeout)\n",
    "            r.raise_for_status()\n",
    "            return r.text\n",
    "        except Exception as e:\n",
    "            quotes_logger.warning(f\"Attempt {attempt}: {url} -> {e}\")\n",
    "            time.sleep(1.5 * attempt)\n",
    "    raise RuntimeError(f\"Failed to fetch {url} after {retries} attempts\")"
   ]
  },
  {
   "cell_type": "code",
   "execution_count": 13,
   "id": "7c953609",
   "metadata": {
    "id": "7c953609"
   },
   "outputs": [],
   "source": [
    "\n",
    "# TODO: Реализуйте функцию parse_quotes_page(html), которая:\n",
    "# - находит блоки цитат;\n",
    "# - извлекает поля: text, author, tags (теги объединить символом '|');\n",
    "# - находит ссылку на следующую страницу (или None).\n",
    "# Верните кортеж (список_словарей, next_url).\n",
    "\n",
    "def parse_quotes_page(html: str):\n",
    "    soup = BeautifulSoup(html, \"lxml\")\n",
    "    quotes = []\n",
    "    for q in soup.select(\".quote\"):\n",
    "        text = q.select_one(\".text\").get_text(strip=True)\n",
    "        author = q.select_one(\".author\").get_text(strip=True)\n",
    "        tags = [t.get_text(strip=True) for t in q.select(\".tags a.tag\")]\n",
    "        quotes.append({\"text\": text, \"author\": author, \"tags\": \"|\".join(tags)})\n",
    "    next_link = soup.select_one(\"li.next a\")\n",
    "    next_url = QUOTES_BASE_URL + next_link[\"href\"] if next_link else None\n",
    "    return quotes, next_url"
   ]
  },
  {
   "cell_type": "code",
   "execution_count": 14,
   "id": "ba81d6ac",
   "metadata": {
    "id": "ba81d6ac"
   },
   "outputs": [],
   "source": [
    "\n",
    "# TODO: Реализуйте функцию save_csv(rows, path, fieldnames, write_header=False).\n",
    "# Требования:\n",
    "# - создать директорию при необходимости;\n",
    "# - использовать csv.DictWriter;\n",
    "# - корректная работа с UTF-8 и переносами строк.\n",
    "\n",
    "def save_csv(rows, path: Path, fieldnames, write_header: bool = False):\n",
    "    path.parent.mkdir(parents=True, exist_ok=True)\n",
    "    with path.open(\"a\", newline=\"\", encoding=\"utf-8\") as f:\n",
    "        writer = csv.DictWriter(f, fieldnames=fieldnames)\n",
    "        if write_header:\n",
    "            writer.writeheader()\n",
    "        writer.writerows(rows)"
   ]
  },
  {
   "cell_type": "code",
   "execution_count": 15,
   "id": "4c65f6a2",
   "metadata": {
    "id": "4c65f6a2"
   },
   "outputs": [
    {
     "name": "stderr",
     "output_type": "stream",
     "text": [
      "2025-10-08 19:06:31,462 - INFO - quotes - Start scraping quotes\n",
      "2025-10-08 19:06:32,743 - INFO - quotes - Saved 10 quotes. Next: https://quotes.toscrape.com/page/2/\n",
      "2025-10-08 19:06:34,637 - INFO - quotes - Saved 10 quotes. Next: https://quotes.toscrape.com/page/3/\n",
      "2025-10-08 19:06:36,549 - INFO - quotes - Saved 10 quotes. Next: https://quotes.toscrape.com/page/4/\n",
      "2025-10-08 19:06:38,478 - INFO - quotes - Saved 10 quotes. Next: https://quotes.toscrape.com/page/5/\n",
      "2025-10-08 19:06:40,398 - INFO - quotes - Saved 10 quotes. Next: https://quotes.toscrape.com/page/6/\n",
      "2025-10-08 19:06:42,283 - INFO - quotes - Saved 10 quotes. Next: https://quotes.toscrape.com/page/7/\n",
      "2025-10-08 19:06:44,200 - INFO - quotes - Saved 10 quotes. Next: https://quotes.toscrape.com/page/8/\n",
      "2025-10-08 19:06:46,129 - INFO - quotes - Saved 10 quotes. Next: https://quotes.toscrape.com/page/9/\n",
      "2025-10-08 19:06:48,044 - INFO - quotes - Saved 10 quotes. Next: https://quotes.toscrape.com/page/10/\n",
      "2025-10-08 19:06:49,962 - INFO - quotes - Saved 10 quotes. Next: None\n",
      "2025-10-08 19:06:50,975 - INFO - quotes - Done. Total quotes: 100\n"
     ]
    },
    {
     "name": "stdout",
     "output_type": "stream",
     "text": [
      "Quotes — предпросмотр (15)\n"
     ]
    },
    {
     "data": {
      "text/html": [
       "<div>\n",
       "<style scoped>\n",
       "    .dataframe tbody tr th:only-of-type {\n",
       "        vertical-align: middle;\n",
       "    }\n",
       "\n",
       "    .dataframe tbody tr th {\n",
       "        vertical-align: top;\n",
       "    }\n",
       "\n",
       "    .dataframe thead th {\n",
       "        text-align: right;\n",
       "    }\n",
       "</style>\n",
       "<table border=\"1\" class=\"dataframe\">\n",
       "  <thead>\n",
       "    <tr style=\"text-align: right;\">\n",
       "      <th></th>\n",
       "      <th>text</th>\n",
       "      <th>author</th>\n",
       "      <th>tags</th>\n",
       "    </tr>\n",
       "  </thead>\n",
       "  <tbody>\n",
       "    <tr>\n",
       "      <th>0</th>\n",
       "      <td>“The world as we have created it is a process ...</td>\n",
       "      <td>Albert Einstein</td>\n",
       "      <td>change|deep-thoughts|thinking|world</td>\n",
       "    </tr>\n",
       "    <tr>\n",
       "      <th>1</th>\n",
       "      <td>“It is our choices, Harry, that show what we t...</td>\n",
       "      <td>J.K. Rowling</td>\n",
       "      <td>abilities|choices</td>\n",
       "    </tr>\n",
       "    <tr>\n",
       "      <th>2</th>\n",
       "      <td>“There are only two ways to live your life. On...</td>\n",
       "      <td>Albert Einstein</td>\n",
       "      <td>inspirational|life|live|miracle|miracles</td>\n",
       "    </tr>\n",
       "    <tr>\n",
       "      <th>3</th>\n",
       "      <td>“The person, be it gentleman or lady, who has ...</td>\n",
       "      <td>Jane Austen</td>\n",
       "      <td>aliteracy|books|classic|humor</td>\n",
       "    </tr>\n",
       "    <tr>\n",
       "      <th>4</th>\n",
       "      <td>“Imperfection is beauty, madness is genius and...</td>\n",
       "      <td>Marilyn Monroe</td>\n",
       "      <td>be-yourself|inspirational</td>\n",
       "    </tr>\n",
       "    <tr>\n",
       "      <th>5</th>\n",
       "      <td>“Try not to become a man of success. Rather be...</td>\n",
       "      <td>Albert Einstein</td>\n",
       "      <td>adulthood|success|value</td>\n",
       "    </tr>\n",
       "    <tr>\n",
       "      <th>6</th>\n",
       "      <td>“It is better to be hated for what you are tha...</td>\n",
       "      <td>André Gide</td>\n",
       "      <td>life|love</td>\n",
       "    </tr>\n",
       "    <tr>\n",
       "      <th>7</th>\n",
       "      <td>“I have not failed. I've just found 10,000 way...</td>\n",
       "      <td>Thomas A. Edison</td>\n",
       "      <td>edison|failure|inspirational|paraphrased</td>\n",
       "    </tr>\n",
       "    <tr>\n",
       "      <th>8</th>\n",
       "      <td>“A woman is like a tea bag; you never know how...</td>\n",
       "      <td>Eleanor Roosevelt</td>\n",
       "      <td>misattributed-eleanor-roosevelt</td>\n",
       "    </tr>\n",
       "    <tr>\n",
       "      <th>9</th>\n",
       "      <td>“A day without sunshine is like, you know, nig...</td>\n",
       "      <td>Steve Martin</td>\n",
       "      <td>humor|obvious|simile</td>\n",
       "    </tr>\n",
       "    <tr>\n",
       "      <th>10</th>\n",
       "      <td>“This life is what you make it. No matter what...</td>\n",
       "      <td>Marilyn Monroe</td>\n",
       "      <td>friends|heartbreak|inspirational|life|love|sis...</td>\n",
       "    </tr>\n",
       "    <tr>\n",
       "      <th>11</th>\n",
       "      <td>“It takes a great deal of bravery to stand up ...</td>\n",
       "      <td>J.K. Rowling</td>\n",
       "      <td>courage|friends</td>\n",
       "    </tr>\n",
       "    <tr>\n",
       "      <th>12</th>\n",
       "      <td>“If you can't explain it to a six year old, yo...</td>\n",
       "      <td>Albert Einstein</td>\n",
       "      <td>simplicity|understand</td>\n",
       "    </tr>\n",
       "    <tr>\n",
       "      <th>13</th>\n",
       "      <td>“You may not be her first, her last, or her on...</td>\n",
       "      <td>Bob Marley</td>\n",
       "      <td>love</td>\n",
       "    </tr>\n",
       "    <tr>\n",
       "      <th>14</th>\n",
       "      <td>“I like nonsense, it wakes up the brain cells....</td>\n",
       "      <td>Dr. Seuss</td>\n",
       "      <td>fantasy</td>\n",
       "    </tr>\n",
       "  </tbody>\n",
       "</table>\n",
       "</div>"
      ],
      "text/plain": [
       "                                                 text             author  \\\n",
       "0   “The world as we have created it is a process ...    Albert Einstein   \n",
       "1   “It is our choices, Harry, that show what we t...       J.K. Rowling   \n",
       "2   “There are only two ways to live your life. On...    Albert Einstein   \n",
       "3   “The person, be it gentleman or lady, who has ...        Jane Austen   \n",
       "4   “Imperfection is beauty, madness is genius and...     Marilyn Monroe   \n",
       "5   “Try not to become a man of success. Rather be...    Albert Einstein   \n",
       "6   “It is better to be hated for what you are tha...         André Gide   \n",
       "7   “I have not failed. I've just found 10,000 way...   Thomas A. Edison   \n",
       "8   “A woman is like a tea bag; you never know how...  Eleanor Roosevelt   \n",
       "9   “A day without sunshine is like, you know, nig...       Steve Martin   \n",
       "10  “This life is what you make it. No matter what...     Marilyn Monroe   \n",
       "11  “It takes a great deal of bravery to stand up ...       J.K. Rowling   \n",
       "12  “If you can't explain it to a six year old, yo...    Albert Einstein   \n",
       "13  “You may not be her first, her last, or her on...         Bob Marley   \n",
       "14  “I like nonsense, it wakes up the brain cells....          Dr. Seuss   \n",
       "\n",
       "                                                 tags  \n",
       "0                 change|deep-thoughts|thinking|world  \n",
       "1                                   abilities|choices  \n",
       "2            inspirational|life|live|miracle|miracles  \n",
       "3                       aliteracy|books|classic|humor  \n",
       "4                           be-yourself|inspirational  \n",
       "5                             adulthood|success|value  \n",
       "6                                           life|love  \n",
       "7            edison|failure|inspirational|paraphrased  \n",
       "8                     misattributed-eleanor-roosevelt  \n",
       "9                                humor|obvious|simile  \n",
       "10  friends|heartbreak|inspirational|life|love|sis...  \n",
       "11                                    courage|friends  \n",
       "12                              simplicity|understand  \n",
       "13                                               love  \n",
       "14                                            fantasy  "
      ]
     },
     "metadata": {},
     "output_type": "display_data"
    },
    {
     "data": {
      "text/plain": [
       "100"
      ]
     },
     "execution_count": 15,
     "metadata": {},
     "output_type": "execute_result"
    }
   ],
   "source": [
    "\n",
    "# TODO: Реализуйте функцию run_quotes_scraper(), которая:\n",
    "# - инициализирует логгер;\n",
    "# - удаляет существующий CSV (если он есть);\n",
    "# - итерируется по страницам, пока есть next_url;\n",
    "# - сохраняет данные постранично;\n",
    "# - возвращает общее количество собранных цитат.\n",
    "# В конце выведите краткую статистику.\n",
    "\n",
    "def run_quotes_scraper(show: bool = True, preview_rows: int = 15, download: bool = False):\n",
    "    quotes_logger.info(\"Start scraping quotes\")\n",
    "    if QUOTES_OUT.exists():\n",
    "        QUOTES_OUT.unlink()\n",
    "    page_url = QUOTES_BASE_URL\n",
    "    first = True; total = 0\n",
    "    while page_url:\n",
    "        html = fetch(page_url)\n",
    "        rows, page_url = parse_quotes_page(html)\n",
    "        save_csv(rows, QUOTES_OUT, [\"text\",\"author\",\"tags\"], write_header=first)\n",
    "        first = False; total += len(rows)\n",
    "        quotes_logger.info(f\"Saved {len(rows)} quotes. Next: {page_url}\")\n",
    "        time.sleep(1.0)\n",
    "    quotes_logger.info(f\"Done. Total quotes: {total}\")\n",
    "    if show:\n",
    "        show_csv(QUOTES_OUT, title=f\"Quotes — предпросмотр ({preview_rows})\", n=preview_rows)\n",
    "    if download:\n",
    "        download_file(QUOTES_OUT)\n",
    "    return total\n",
    "\n",
    "run_quotes_scraper()"
   ]
  },
  {
   "cell_type": "markdown",
   "id": "08a5ec51",
   "metadata": {
    "id": "08a5ec51"
   },
   "source": [
    "## Фаза 2. Маркетплейс — двухшаговый парсинг"
   ]
  },
  {
   "cell_type": "code",
   "execution_count": 19,
   "id": "c98ed2f3",
   "metadata": {
    "id": "c98ed2f3"
   },
   "outputs": [],
   "source": [
    "\n",
    "# TODO: Подготовьте импорты и переменные для сайта:\n",
    "# - BASE_URL;\n",
    "# - MARKET_OUT (путь к RAW CSV);\n",
    "# - логгер;\n",
    "# Подсказка: используйте те же утилиты логирования.\n",
    "\n",
    "import csv, time, requests, re\n",
    "from bs4 import BeautifulSoup\n",
    "from pathlib import Path\n",
    "\n",
    "\n",
    "BASE_URL = 'https://liquipedia.net/'\n",
    "OUT_DIR = Path.cwd() / 'data' / 'raw'\n",
    "HEADERS = {'User-Agent': 'Mozilla/5.0'}\n",
    "games_logger = get_logger('game_tournaments')"
   ]
  },
  {
   "cell_type": "code",
   "execution_count": 43,
   "id": "fec48ac0",
   "metadata": {
    "id": "fec48ac0"
   },
   "outputs": [],
   "source": [
    "\n",
    "# TODO: Реализуйте функцию fetch_market(url) по аналогии с fetch(url), но с другими таймаутами/повторами.\n",
    "# Требования такие же: заголовок User-Agent, обработка исключений, паузы между попытками.\n",
    "\n",
    "def fetch_site(url: str, retries: int = 5, timeout: int = 20) -> str:\n",
    "    for attempt in range(1, retries + 1):\n",
    "        try:\n",
    "            req = requests.get(url, HEADERS, timeout = timeout)\n",
    "            req.raise_for_status()\n",
    "            return req.text\n",
    "        except Exception as e:\n",
    "            games_logger.warning(f'Attempt {attempt}: {url} -> {e}')\n",
    "            time.sleep(timeout / 5)\n",
    "    raise RuntimeError(f'Failed to fetch {url} after {retries} attempts')"
   ]
  },
  {
   "cell_type": "code",
   "execution_count": 80,
   "id": "df0aee84",
   "metadata": {
    "id": "df0aee84"
   },
   "outputs": [],
   "source": [
    "\n",
    "# TODO: Реализуйте функцию get_item_links_from_category(html):\n",
    "# - распарсьте HTML категории;\n",
    "# - соберите все <a href=\"...\">, нормализуйте в абсолютные ссылки;\n",
    "# - отфильтруйте только ссылки, у которых в пути встречается '/ads/';\n",
    "# - удалите дубликаты, сохранив порядок.\n",
    "# Верните список ссылок на объявления.\n",
    "\n",
    "def get_game_links(html: str) -> list:\n",
    "    soup = BeautifulSoup(html, 'lxml')\n",
    "    game_urls = []\n",
    "    for game in soup.select('.wiki-card__link'):\n",
    "        if game.get('href') is not None and game.get_text() != 'Hub' and game.get_text() != 'Lab':\n",
    "            game_url = BASE_URL + game.get('href')\n",
    "        else:\n",
    "            game_url = None\n",
    "        game_urls.append(game_url)\n",
    "    return game_urls"
   ]
  },
  {
   "cell_type": "code",
   "execution_count": 102,
   "id": "aa0633ea",
   "metadata": {
    "id": "aa0633ea"
   },
   "outputs": [],
   "source": [
    "\n",
    "# TODO: Реализуйте функцию parse_item_page(html):\n",
    "# - извлеките заголовок из <h1>;\n",
    "# - из всего текста страницы извлеките первую цену перед 'KGS' (регулярное выражение);\n",
    "# - верните словарь {'title': ..., 'price': ...}.\n",
    "\n",
    "def parse_game_page(game_link: str) -> dict:\n",
    "    game_info = {}\n",
    "    upcoming_tournaments = []\n",
    "    ongoing_tournaments = []\n",
    "    completed_tournaments = []\n",
    "    game_html = fetch_site(game_link, 2, 60)\n",
    "    soup = BeautifulSoup(game_html, 'lxml')\n",
    "    game_name = soup.select_one('.brand-subtitle').get_text()\n",
    "    game_info['game_name'] = game_name\n",
    "    tournaments_names = soup.select('.tournaments-menu')\n",
    "    for tournament in tournaments_names:\n",
    "        print(tournament.get_text())\n",
    "\n",
    "list_of_links = get_game_links_from_site(fetch_site(BASE_URL))\n",
    "parse_game_page(list_of_links[0])\n"
   ]
  },
  {
   "cell_type": "code",
   "execution_count": null,
   "id": "691b3ec4",
   "metadata": {
    "id": "691b3ec4"
   },
   "outputs": [],
   "source": [
    "\n",
    "# TODO: Реализуйте функцию get_next_page_url(html):\n",
    "# - найдите ссылку на следующую страницу (rel='next' или другой селектор);\n",
    "# - верните абсолютный URL или None.\n"
   ]
  },
  {
   "cell_type": "code",
   "execution_count": null,
   "id": "544c9b44",
   "metadata": {
    "id": "544c9b44"
   },
   "outputs": [],
   "source": [
    "\n",
    "# TODO: Реализуйте функцию run_market_scraper(...), которая:\n",
    "# - принимает category, pages_limit, per_page_limit, задержки;\n",
    "# - собирает ссылки объявлений с каждой страницы категории;\n",
    "# - для каждой ссылки загружает карточку и извлекает title/price;\n",
    "# - постранично сохраняет результат в CSV;\n",
    "# - возвращает общее количество валидных объявлений.\n",
    "# Выведите статистику по страницам и итог.\n"
   ]
  },
  {
   "cell_type": "markdown",
   "id": "bfae9286",
   "metadata": {
    "id": "bfae9286"
   },
   "source": [
    "## Фаза 3. Очистка и валидация"
   ]
  },
  {
   "cell_type": "code",
   "execution_count": null,
   "id": "7f70c920",
   "metadata": {
    "id": "7f70c920"
   },
   "outputs": [],
   "source": [
    "\n",
    "# TODO: Импортируйте pandas и другие нужные модули (datetime, re).\n",
    "# Объявите пути: RAW_CSV (в data/raw), CLEAN_CSV и CLEAN_PQ (в data/processed).\n"
   ]
  },
  {
   "cell_type": "code",
   "execution_count": null,
   "id": "000de97c",
   "metadata": {
    "id": "000de97c"
   },
   "outputs": [],
   "source": [
    "\n",
    "# TODO: Напишите функцию normalize_title(s), которая:\n",
    "# - обрезает пробелы по краям;\n",
    "# - заменяет множественные пробелы на один.\n",
    "# Верните нормализованную строку.\n"
   ]
  },
  {
   "cell_type": "code",
   "execution_count": null,
   "id": "269a6226",
   "metadata": {
    "id": "269a6226"
   },
   "outputs": [],
   "source": [
    "\n",
    "# TODO: Реализуйте функцию clean_market_data(...):\n",
    "# - загрузите RAW CSV;\n",
    "# - проверьте наличие обязательных столбцов (title, price, url);\n",
    "# - удалите дубликаты по url и пустые url;\n",
    "# - приведите price к числу (coerce), оставьте только > 0 и разумный верхний порог;\n",
    "# - добавьте служебные поля: source, category, currency, date_scraped (ISO‑8601 UTC);\n",
    "# - сохраните CSV и Parquet (если установлен соответствующий движок);\n",
    "# - верните количество валидных строк.\n",
    "# Выведите предпросмотр очищенных данных.\n"
   ]
  },
  {
   "cell_type": "markdown",
   "id": "0af29b7b",
   "metadata": {
    "id": "0af29b7b"
   },
   "source": [
    "## Фаза 4. Воспроизводимость: пайплайн и смоук‑тесты"
   ]
  },
  {
   "cell_type": "code",
   "execution_count": null,
   "id": "1415fbf0",
   "metadata": {
    "id": "1415fbf0"
   },
   "outputs": [],
   "source": [
    "\n",
    "# TODO: Реализуйте функцию run_pipeline(), которая:\n",
    "# - запускает мини‑парсер (опционально);\n",
    "# - запускает маркет‑парсер;\n",
    "# - запускает очистку;\n",
    "# - печатает сводку scraped/cleaned и возвращает кортеж.\n"
   ]
  },
  {
   "cell_type": "code",
   "execution_count": null,
   "id": "61c36abb",
   "metadata": {
    "id": "61c36abb"
   },
   "outputs": [],
   "source": [
    "\n",
    "# TODO: Реализуйте функцию smoke_tests(), которая проверяет базовые инварианты:\n",
    "# - наличие RAW и CLEAN файлов;\n",
    "# - clean не длиннее raw;\n",
    "# - наличие столбцов в clean: title, price, currency, url, source, category, date_scraped;\n",
    "# - все цены в clean > 0;\n",
    "# - нет пустых url.\n",
    "# В конце выведите 'SMOKE CHECKS OK' при успехе.\n"
   ]
  },
  {
   "cell_type": "markdown",
   "id": "35edc003",
   "metadata": {
    "id": "35edc003"
   },
   "source": [
    "\n",
    "### Этика и право\n",
    "- Соблюдайте robots.txt и условия сайта.\n",
    "- Держите паузы между запросами, не создавайте лишней нагрузки.\n",
    "- Не собирайте персональные данные, не обходите защиту.\n",
    "\n",
    "### DoD — критерии приёмки\n",
    "- Мини‑парсер собрал ≥ 100 цитат;\n",
    "- Маркет‑парсер собрал ≥ 200 объявлений при разумных лимитах;\n",
    "- Очищенный CSV/Parquet содержит нужные столбцы;\n",
    "- Смоук‑тесты проходят без ошибок;\n",
    "- Весь конвейер запускается одной функцией.\n"
   ]
  }
 ],
 "metadata": {
  "colab": {
   "provenance": []
  },
  "kernelspec": {
   "display_name": "Python 3 (ipykernel)",
   "language": "python",
   "name": "python3"
  },
  "language_info": {
   "codemirror_mode": {
    "name": "ipython",
    "version": 3
   },
   "file_extension": ".py",
   "mimetype": "text/x-python",
   "name": "python",
   "nbconvert_exporter": "python",
   "pygments_lexer": "ipython3",
   "version": "3.9.5"
  }
 },
 "nbformat": 4,
 "nbformat_minor": 5
}
