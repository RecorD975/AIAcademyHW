{
 "cells": [
  {
   "cell_type": "markdown",
   "id": "e0559d13",
   "metadata": {
    "id": "e0559d13"
   },
   "source": [
    "\n",
    "# Проект‑практикум: Парсинг данных • Вариант для студентов\n",
    "\n",
    "**Задача:** реализовать рабочий пайплайн парсинга (сбор → очистка → проверка) своими руками.  \n",
    "**Правило:** в кодовых ячейках ниже оставлены только комментарии‑подсказки. Заменяйте их на **свой код**.\n",
    "\n",
    "**Этапы**\n",
    "1. Фаза 0 — подготовка окружения и структуры.\n",
    "2. Фаза 1 — мини‑парсер «Quotes to Scrape».\n",
    "3. Фаза 2 — маркетплейс (двухшаговый: категория → карточка).\n",
    "4. Фаза 3 — очистка и валидация.\n",
    "5. Фаза 4 — воспроизводимость (мини‑конвейер) и смоук‑тесты.\n",
    "\n",
    "> Подсказка: используйте понятные имена переменных, функции с докстрингами и логирование.\n"
   ]
  },
  {
   "cell_type": "markdown",
   "id": "6fa54edb-fe87-4c77-b81e-e252cae130da",
   "metadata": {
    "id": "6fa54edb-fe87-4c77-b81e-e252cae130da"
   },
   "source": [
    "## 1. **Фаза 0 — подготовка окружения и структуры**\n",
    "\n",
    "Это как настройка рабочего стола перед началом проекта:\n",
    "\n",
    "* мы устанавливаем все нужные программы и библиотеки (инструменты),\n",
    "* создаём папки для хранения данных: `raw` (сырые), `processed` (очищенные), `logs` (логи).\n",
    "\n",
    "👉 Цель: подготовить «чистое рабочее место», чтобы дальше всё было организованно.\n",
    "\n",
    "---\n",
    "\n",
    "### 2. **Фаза 1 — мини-парсер «Quotes to Scrape»**\n",
    "\n",
    "Это тренировочный этап. Мы берём сайт для обучения (quotes.toscrape.com), где размещены цитаты.\n",
    "\n",
    "* Скачиваем их при помощи кода на Python,\n",
    "* сохраняем в таблицу (CSV) с колонками «цитата», «автор», «теги».\n",
    "\n",
    "👉 Цель: научиться базовому парсингу и проверить, что связка `requests + BeautifulSoup + CSV` работает.\n",
    "\n",
    "---\n",
    "\n",
    "### 3. **Фаза 2 — маркетплейс (категория → карточка)**\n",
    "\n",
    "Здесь уже настоящий сайт — маркетплейс (Lalafo).\n",
    "\n",
    "* Находим страницу категории (например, электроника),\n",
    "* собираем ссылки на карточки товаров,\n",
    "* переходим в каждую карточку и вытаскиваем данные: название товара и цену.\n",
    "\n",
    "👉 Цель: освоить более сложный сценарий «двухшагового» парсинга: сначала ссылки, потом сами объекты.\n",
    "\n",
    "---\n",
    "\n",
    "### 4. **Фаза 3 — очистка и валидация**\n",
    "\n",
    "Сырые данные редко бывают аккуратными. Поэтому:\n",
    "\n",
    "* удаляем дубликаты и пустые строки,\n",
    "* приводим цены к числам и фильтруем нереалистичные значения,\n",
    "* добавляем служебные поля (источник, дата сбора, категория).\n",
    "\n",
    "👉 Цель: получить чистый датасет, готовый для анализа или загрузки в базу.\n",
    "\n",
    "---\n",
    "\n",
    "### 5. **Фаза 4 — воспроизводимость (пайплайн) и смоук-тесты**\n",
    "\n",
    "Здесь мы собираем всё вместе:\n",
    "\n",
    "* одна команда запускает весь процесс — парсинг + очистку,\n",
    "* параметры (например, какая категория, сколько страниц) задаём через конфиг или `.env`,\n",
    "* смоук-тесты проверяют, что данные корректны (есть все колонки, нет пустых URL, цены > 0).\n",
    "\n",
    "👉 Цель: сделать проект удобным и повторяемым — так, чтобы его можно было запустить заново через неделю или дать другому человеку, и всё сработает.\n",
    "\n",
    "---"
   ]
  },
  {
   "cell_type": "markdown",
   "id": "f644394a",
   "metadata": {
    "id": "f644394a"
   },
   "source": [
    "## Фаза 0. Подготовка окружения"
   ]
  },
  {
   "cell_type": "code",
   "execution_count": 4,
   "id": "b26c1710",
   "metadata": {
    "colab": {
     "base_uri": "https://localhost:8080/"
    },
    "id": "b26c1710",
    "outputId": "c4d3103f-eb62-4a2d-d3ce-e9afa680c9d5"
   },
   "outputs": [
    {
     "name": "stdout",
     "output_type": "stream",
     "text": [
      "✅ Зависимости установлены/обновлены\n"
     ]
    }
   ],
   "source": [
    "# TODO: Установите зависимости проекта через pip.\n",
    "# Подсказка: используйте модуль запуска пакетов из Python или магию Jupyter (%pip).\n",
    "# Обязательные пакеты: requests, beautifulsoup4, lxml, pandas, python-dotenv, tqdm (и при желании pyarrow).\n",
    "# Пример шага: установить список пакетов и вывести подтверждение установки.\n",
    "\n",
    "# Установка зависимостей\n",
    "try:\n",
    "    import sys, subprocess\n",
    "    pkgs = [\"requests\", \"beautifulsoup4\", \"lxml\", \"pandas\", \"python-dotenv\", \"tqdm\", \"pyarrow\"]\n",
    "    subprocess.check_call([sys.executable, \"-m\", \"pip\", \"install\", \"-q\"] + pkgs)\n",
    "    print(\"✅ Зависимости установлены/обновлены\")\n",
    "except Exception as e:\n",
    "    print(\"⚠️ Установите пакеты вручную:\", e)"
   ]
  },
  {
   "cell_type": "code",
   "execution_count": 8,
   "id": "2hJU2mA-v2YS",
   "metadata": {
    "id": "2hJU2mA-v2YS"
   },
   "outputs": [],
   "source": [
    "# Хелперы для отображения и скачивания\n",
    "import pandas as pd\n",
    "from IPython.display import display\n",
    "from pathlib import Path\n",
    "\n",
    "IN_COLAB = False\n",
    "try:\n",
    "    import google.colab  # type: ignore\n",
    "    from google.colab import data_table, files  # type: ignore\n",
    "    data_table.enable_dataframe_formatter()\n",
    "    IN_COLAB = True\n",
    "except Exception:\n",
    "    files = None  # type: ignore\n",
    "\n",
    "def show_df(df: pd.DataFrame, title: str, n: int = 20):\n",
    "    if title:\n",
    "        print(title)\n",
    "    display(df.head(n))\n",
    "\n",
    "def show_csv(path: Path, title: str, n: int = 20):\n",
    "    if not path.exists():\n",
    "        print(f\"Файл не найден: {path}\")\n",
    "        return\n",
    "    try:\n",
    "        df = pd.read_csv(path)\n",
    "        show_df(df, title, n)\n",
    "    except Exception as e:\n",
    "        print(\"Не удалось прочитать CSV:\", e)\n",
    "\n",
    "def download_file(path: Path):\n",
    "    \"\"\"Скачивание файла в Colab. В Jupyter просто сообщает путь.\"\"\"\n",
    "    if not path.exists():\n",
    "        print(f\"Файл не найден: {path}\")\n",
    "        return\n",
    "    if IN_COLAB and files is not None:\n",
    "        files.download(str(path))\n",
    "    else:\n",
    "        print(f\"Скачивание доступно в Colab. Путь к файлу: {path}\")"
   ]
  },
  {
   "cell_type": "code",
   "execution_count": 9,
   "id": "b074006f",
   "metadata": {
    "colab": {
     "base_uri": "https://localhost:8080/"
    },
    "id": "b074006f",
    "outputId": "37dda9cc-f8b1-43c3-8c46-5206eb774da4"
   },
   "outputs": [
    {
     "name": "stdout",
     "output_type": "stream",
     "text": [
      "Base dir: D:\\AIAcademy\\Parser_1_project\n",
      "Raw dir: D:\\AIAcademy\\Parser_1_project\\data\\raw\n",
      "Pocessed dir: D:\\AIAcademy\\Parser_1_project\\data\\processed\n",
      "Logs dir: D:\\AIAcademy\\Parser_1_project\\logs\n"
     ]
    }
   ],
   "source": [
    "# TODO: Создайте структуру папок проекта: data/raw, data/processed, logs.\n",
    "# Подсказка: используйте pathlib.Path и метод mkdir(..., parents=True, exist_ok=True).\n",
    "# Проверьте, что директории появились, выведите их абсолютные пути.\n",
    "from pathlib import Path\n",
    "\n",
    "BASE_DIR = Path.cwd()\n",
    "RAW_DIR = BASE_DIR / 'data' / 'raw'\n",
    "PROCESSED_DIR = BASE_DIR / 'data' / 'processed'\n",
    "LOG_DIR = BASE_DIR / 'logs'\n",
    "\n",
    "for path in [RAW_DIR, PROCESSED_DIR, LOG_DIR]:\n",
    "  path.mkdir(parents = True, exist_ok = True)\n",
    "\n",
    "print(f'Base dir: {BASE_DIR}\\nRaw dir: {RAW_DIR}\\nPocessed dir: {PROCESSED_DIR}\\nLogs dir: {LOG_DIR}')"
   ]
  },
  {
   "cell_type": "code",
   "execution_count": null,
   "id": "87b6af62",
   "metadata": {
    "colab": {
     "base_uri": "https://localhost:8080/"
    },
    "id": "87b6af62",
    "outputId": "7aa41cf4-e01a-47fc-a6f3-012cab555180"
   },
   "outputs": [],
   "source": [
    "# TODO: Задайте базовые параметры проекта (в виде переменных):\n",
    "# - CATEGORY (строка пути категории маркетплейса)\n",
    "# - PAGES_LIMIT (int, ограничение страниц)\n",
    "# - PER_PAGE_LIMIT (int, ограничение карточек на страницу)\n",
    "# - DELAY и ITEM_DELAY (float, задержки между запросами)\n",
    "# - SOURCE и CURRENCY (строки)\n",
    "# Выведите значения параметров для самопроверки.\n"
   ]
  },
  {
   "cell_type": "markdown",
   "id": "65972359",
   "metadata": {
    "id": "65972359"
   },
   "source": [
    "### Утилиты: логирование"
   ]
  },
  {
   "cell_type": "code",
   "execution_count": 11,
   "id": "5438cf82",
   "metadata": {
    "id": "5438cf82"
   },
   "outputs": [],
   "source": [
    "# TODO: Реализуйте функцию get_logger(name) для логирования в консоль и файл.\n",
    "# Требования:\n",
    "# - уровень INFO;\n",
    "# - 2 хэндлера: StreamHandler (консоль) и FileHandler (в logs/<name>.log);\n",
    "# - формат логов: \"%(asctime)s - %(levelname)s - %(name)s - %(message)s\".\n",
    "# Подсказка: не дублируйте хэндлеры при повторных запусках в Jupyter.\n",
    "\n",
    "\n",
    "import logging\n",
    "\n",
    "def get_logger(name: str, log_dir: Path = LOG_DIR) -> logging.Logger:\n",
    "    log_dir.mkdir(parents=True, exist_ok=True)\n",
    "    logger = logging.getLogger(name)\n",
    "    logger.setLevel(logging.INFO)\n",
    "    if logger.handlers:\n",
    "        return logger\n",
    "    ch = logging.StreamHandler(); ch.setLevel(logging.INFO)\n",
    "    fh = logging.FileHandler(log_dir / f\"{name}.log\", encoding=\"utf-8\"); fh.setLevel(logging.INFO)\n",
    "    fmt = logging.Formatter(\"%(asctime)s - %(levelname)s - %(name)s - %(message)s\")\n",
    "    ch.setFormatter(fmt); fh.setFormatter(fmt)\n",
    "    logger.addHandler(ch); logger.addHandler(fh)\n",
    "    return logger\n"
   ]
  },
  {
   "cell_type": "markdown",
   "id": "93cf5c91",
   "metadata": {
    "id": "93cf5c91"
   },
   "source": [
    "## Фаза 1. Мини‑парсер — Quotes to Scrape"
   ]
  },
  {
   "cell_type": "code",
   "execution_count": 12,
   "id": "3bada940",
   "metadata": {
    "id": "3bada940"
   },
   "outputs": [],
   "source": [
    "\n",
    "# TODO: Импортируйте необходимые модули для сетевых запросов и HTML‑парсинга.\n",
    "# Рекомендуемые инструменты: requests, bs4.BeautifulSoup, time.\n",
    "# Создайте константы для базового URL и пути для CSV.\n"
   ]
  },
  {
   "cell_type": "code",
   "execution_count": null,
   "id": "441827e3",
   "metadata": {
    "id": "441827e3"
   },
   "outputs": [],
   "source": [
    "\n",
    "# TODO: Реализуйте функцию fetch(url) с повторами и таймаутом.\n",
    "# Логика:\n",
    "# 1) выполнить GET с заголовком User-Agent;\n",
    "# 2) при ошибке логировать предупреждение и делать экспоненциальную паузу;\n",
    "# 3) после N попыток выбросить исключение.\n"
   ]
  },
  {
   "cell_type": "code",
   "execution_count": null,
   "id": "7c953609",
   "metadata": {
    "id": "7c953609"
   },
   "outputs": [],
   "source": [
    "\n",
    "# TODO: Реализуйте функцию parse_quotes_page(html), которая:\n",
    "# - находит блоки цитат;\n",
    "# - извлекает поля: text, author, tags (теги объединить символом '|');\n",
    "# - находит ссылку на следующую страницу (или None).\n",
    "# Верните кортеж (список_словарей, next_url).\n"
   ]
  },
  {
   "cell_type": "code",
   "execution_count": null,
   "id": "ba81d6ac",
   "metadata": {
    "id": "ba81d6ac"
   },
   "outputs": [],
   "source": [
    "\n",
    "# TODO: Реализуйте функцию save_csv(rows, path, fieldnames, write_header=False).\n",
    "# Требования:\n",
    "# - создать директорию при необходимости;\n",
    "# - использовать csv.DictWriter;\n",
    "# - корректная работа с UTF-8 и переносами строк.\n"
   ]
  },
  {
   "cell_type": "code",
   "execution_count": null,
   "id": "4c65f6a2",
   "metadata": {
    "id": "4c65f6a2"
   },
   "outputs": [],
   "source": [
    "\n",
    "# TODO: Реализуйте функцию run_quotes_scraper(), которая:\n",
    "# - инициализирует логгер;\n",
    "# - удаляет существующий CSV (если он есть);\n",
    "# - итерируется по страницам, пока есть next_url;\n",
    "# - сохраняет данные постранично;\n",
    "# - возвращает общее количество собранных цитат.\n",
    "# В конце выведите краткую статистику.\n"
   ]
  },
  {
   "cell_type": "markdown",
   "id": "08a5ec51",
   "metadata": {
    "id": "08a5ec51"
   },
   "source": [
    "## Фаза 2. Маркетплейс — двухшаговый парсинг"
   ]
  },
  {
   "cell_type": "code",
   "execution_count": null,
   "id": "c98ed2f3",
   "metadata": {
    "id": "c98ed2f3"
   },
   "outputs": [],
   "source": [
    "\n",
    "# TODO: Подготовьте импорты и переменные для маркетплейса:\n",
    "# - BASE_URL;\n",
    "# - MARKET_OUT (путь к RAW CSV);\n",
    "# - логгер;\n",
    "# Подсказка: используйте те же утилиты логирования.\n"
   ]
  },
  {
   "cell_type": "code",
   "execution_count": null,
   "id": "fec48ac0",
   "metadata": {
    "id": "fec48ac0"
   },
   "outputs": [],
   "source": [
    "\n",
    "# TODO: Реализуйте функцию fetch_market(url) по аналогии с fetch(url), но с другими таймаутами/повторами.\n",
    "# Требования такие же: заголовок User-Agent, обработка исключений, паузы между попытками.\n"
   ]
  },
  {
   "cell_type": "code",
   "execution_count": null,
   "id": "df0aee84",
   "metadata": {
    "id": "df0aee84"
   },
   "outputs": [],
   "source": [
    "\n",
    "# TODO: Реализуйте функцию get_item_links_from_category(html):\n",
    "# - распарсьте HTML категории;\n",
    "# - соберите все <a href=\"...\">, нормализуйте в абсолютные ссылки;\n",
    "# - отфильтруйте только ссылки, у которых в пути встречается '/ads/';\n",
    "# - удалите дубликаты, сохранив порядок.\n",
    "# Верните список ссылок на объявления.\n"
   ]
  },
  {
   "cell_type": "code",
   "execution_count": null,
   "id": "aa0633ea",
   "metadata": {
    "id": "aa0633ea"
   },
   "outputs": [],
   "source": [
    "\n",
    "# TODO: Реализуйте функцию parse_item_page(html):\n",
    "# - извлеките заголовок из <h1>;\n",
    "# - из всего текста страницы извлеките первую цену перед 'KGS' (регулярное выражение);\n",
    "# - верните словарь {'title': ..., 'price': ...}.\n"
   ]
  },
  {
   "cell_type": "code",
   "execution_count": null,
   "id": "691b3ec4",
   "metadata": {
    "id": "691b3ec4"
   },
   "outputs": [],
   "source": [
    "\n",
    "# TODO: Реализуйте функцию get_next_page_url(html):\n",
    "# - найдите ссылку на следующую страницу (rel='next' или другой селектор);\n",
    "# - верните абсолютный URL или None.\n"
   ]
  },
  {
   "cell_type": "code",
   "execution_count": null,
   "id": "544c9b44",
   "metadata": {
    "id": "544c9b44"
   },
   "outputs": [],
   "source": [
    "\n",
    "# TODO: Реализуйте функцию run_market_scraper(...), которая:\n",
    "# - принимает category, pages_limit, per_page_limit, задержки;\n",
    "# - собирает ссылки объявлений с каждой страницы категории;\n",
    "# - для каждой ссылки загружает карточку и извлекает title/price;\n",
    "# - постранично сохраняет результат в CSV;\n",
    "# - возвращает общее количество валидных объявлений.\n",
    "# Выведите статистику по страницам и итог.\n"
   ]
  },
  {
   "cell_type": "markdown",
   "id": "bfae9286",
   "metadata": {
    "id": "bfae9286"
   },
   "source": [
    "## Фаза 3. Очистка и валидация"
   ]
  },
  {
   "cell_type": "code",
   "execution_count": null,
   "id": "7f70c920",
   "metadata": {
    "id": "7f70c920"
   },
   "outputs": [],
   "source": [
    "\n",
    "# TODO: Импортируйте pandas и другие нужные модули (datetime, re).\n",
    "# Объявите пути: RAW_CSV (в data/raw), CLEAN_CSV и CLEAN_PQ (в data/processed).\n"
   ]
  },
  {
   "cell_type": "code",
   "execution_count": null,
   "id": "000de97c",
   "metadata": {
    "id": "000de97c"
   },
   "outputs": [],
   "source": [
    "\n",
    "# TODO: Напишите функцию normalize_title(s), которая:\n",
    "# - обрезает пробелы по краям;\n",
    "# - заменяет множественные пробелы на один.\n",
    "# Верните нормализованную строку.\n"
   ]
  },
  {
   "cell_type": "code",
   "execution_count": null,
   "id": "269a6226",
   "metadata": {
    "id": "269a6226"
   },
   "outputs": [],
   "source": [
    "\n",
    "# TODO: Реализуйте функцию clean_market_data(...):\n",
    "# - загрузите RAW CSV;\n",
    "# - проверьте наличие обязательных столбцов (title, price, url);\n",
    "# - удалите дубликаты по url и пустые url;\n",
    "# - приведите price к числу (coerce), оставьте только > 0 и разумный верхний порог;\n",
    "# - добавьте служебные поля: source, category, currency, date_scraped (ISO‑8601 UTC);\n",
    "# - сохраните CSV и Parquet (если установлен соответствующий движок);\n",
    "# - верните количество валидных строк.\n",
    "# Выведите предпросмотр очищенных данных.\n"
   ]
  },
  {
   "cell_type": "markdown",
   "id": "0af29b7b",
   "metadata": {
    "id": "0af29b7b"
   },
   "source": [
    "## Фаза 4. Воспроизводимость: пайплайн и смоук‑тесты"
   ]
  },
  {
   "cell_type": "code",
   "execution_count": null,
   "id": "1415fbf0",
   "metadata": {
    "id": "1415fbf0"
   },
   "outputs": [],
   "source": [
    "\n",
    "# TODO: Реализуйте функцию run_pipeline(), которая:\n",
    "# - запускает мини‑парсер (опционально);\n",
    "# - запускает маркет‑парсер;\n",
    "# - запускает очистку;\n",
    "# - печатает сводку scraped/cleaned и возвращает кортеж.\n"
   ]
  },
  {
   "cell_type": "code",
   "execution_count": null,
   "id": "61c36abb",
   "metadata": {
    "id": "61c36abb"
   },
   "outputs": [],
   "source": [
    "\n",
    "# TODO: Реализуйте функцию smoke_tests(), которая проверяет базовые инварианты:\n",
    "# - наличие RAW и CLEAN файлов;\n",
    "# - clean не длиннее raw;\n",
    "# - наличие столбцов в clean: title, price, currency, url, source, category, date_scraped;\n",
    "# - все цены в clean > 0;\n",
    "# - нет пустых url.\n",
    "# В конце выведите 'SMOKE CHECKS OK' при успехе.\n"
   ]
  },
  {
   "cell_type": "markdown",
   "id": "35edc003",
   "metadata": {
    "id": "35edc003"
   },
   "source": [
    "\n",
    "### Этика и право\n",
    "- Соблюдайте robots.txt и условия сайта.\n",
    "- Держите паузы между запросами, не создавайте лишней нагрузки.\n",
    "- Не собирайте персональные данные, не обходите защиту.\n",
    "\n",
    "### DoD — критерии приёмки\n",
    "- Мини‑парсер собрал ≥ 100 цитат;\n",
    "- Маркет‑парсер собрал ≥ 200 объявлений при разумных лимитах;\n",
    "- Очищенный CSV/Parquet содержит нужные столбцы;\n",
    "- Смоук‑тесты проходят без ошибок;\n",
    "- Весь конвейер запускается одной функцией.\n"
   ]
  }
 ],
 "metadata": {
  "colab": {
   "provenance": []
  },
  "kernelspec": {
   "display_name": "Python 3 (ipykernel)",
   "language": "python",
   "name": "python3"
  },
  "language_info": {
   "codemirror_mode": {
    "name": "ipython",
    "version": 3
   },
   "file_extension": ".py",
   "mimetype": "text/x-python",
   "name": "python",
   "nbconvert_exporter": "python",
   "pygments_lexer": "ipython3",
   "version": "3.9.5"
  }
 },
 "nbformat": 4,
 "nbformat_minor": 5
}
